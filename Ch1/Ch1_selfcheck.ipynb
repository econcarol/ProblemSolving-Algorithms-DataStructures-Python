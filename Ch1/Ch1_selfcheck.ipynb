{
 "cells": [
  {
   "cell_type": "code",
   "execution_count": 1,
   "metadata": {},
   "outputs": [
    {
     "name": "stdout",
     "output_type": "stream",
     "text": [
      "['g', 't', 'c', 'r', 'd', 'o', 'i', 'b', 'a']\n"
     ]
    }
   ],
   "source": [
    "# Ch1 Self Check\n",
    "# Q1\n",
    "# the ﬁnal list only contains a single copy of each letter\n",
    "word_list = ['cat', 'dog', 'rabbit'] \n",
    "\n",
    "# my soln to Q1\n",
    "# use set\n",
    "letter_set = set()\n",
    "\n",
    "for a_word in word_list: \n",
    "    for a_letter in a_word: \n",
    "        letter_set.add(a_letter) \n",
    "\n",
    "letter_list = list(letter_set)\n",
    "\n",
    "print(letter_list)"
   ]
  },
  {
   "cell_type": "code",
   "execution_count": 2,
   "metadata": {},
   "outputs": [
    {
     "name": "stdout",
     "output_type": "stream",
     "text": [
      "['c', 'a', 't', 'd', 'o', 'g', 'r', 'a', 'b', 'b', 'i', 't']\n",
      "['g', 't', 'c', 'r', 'd', 'o', 'i', 'b', 'a']\n"
     ]
    }
   ],
   "source": [
    "# Q2\n",
    "# redo the given code using list comprehensions \n",
    "# see if you can ﬁgure out how to remove the duplicates\n",
    "\n",
    "# my soln to Q2\n",
    "temp_list = [a_letter for a_word in word_list for a_letter in a_word]\n",
    "print(temp_list)\n",
    "\n",
    "letter_list = list(set(temp_list))\n",
    "print(letter_list)"
   ]
  },
  {
   "cell_type": "code",
   "execution_count": 3,
   "metadata": {},
   "outputs": [
    {
     "name": "stdout",
     "output_type": "stream",
     "text": [
      "z\n"
     ]
    }
   ],
   "source": [
    "# Q3\n",
    "# randomly hit keys on keyboard and generate a given text\n",
    "# by keeping letters that are correct and \n",
    "# only modifying one character in the best string so far\n",
    "\n",
    "# my soln to Q3\n",
    "goal = 'methinks it is like a weasel'\n",
    "\n",
    "# generate a list of 26 alphabets and the space\n",
    "fixed_list = [chr(i) for i in range(ord('a'), ord('z') + 1)] \n",
    "fixed_list.append(' ')\n",
    "\n",
    "# generate a string of a given length from a list of characters\n",
    "import random\n",
    "\n",
    "def gen_text(length, fixed_list):\n",
    "    text = ''\n",
    "    for i in range(length):\n",
    "        j = random.randint(0, len(fixed_list)-1)\n",
    "        text += fixed_list[j]\n",
    "    return text\n",
    "\n",
    "# test\n",
    "text = gen_text(1, fixed_list)\n",
    "print(text)"
   ]
  },
  {
   "cell_type": "code",
   "execution_count": 4,
   "metadata": {},
   "outputs": [
    {
     "name": "stdout",
     "output_type": "stream",
     "text": [
      "False 0 [0]\n"
     ]
    }
   ],
   "source": [
    "# compare the randomly generated string to the goal\n",
    "def compare(text, goal):\n",
    "    same = True\n",
    "    keep = [0 for i in range(len(goal))]\n",
    "    \n",
    "    for i in range(len(goal)):\n",
    "        if text[i] == goal[i]:\n",
    "            keep[i] = 1\n",
    "        else:\n",
    "            same = False\n",
    "            break\n",
    "    return same, i, keep\n",
    "\n",
    "# test\n",
    "same, score, keep = compare(text, 'a')\n",
    "print(same, score, keep)    "
   ]
  },
  {
   "cell_type": "code",
   "execution_count": 5,
   "metadata": {},
   "outputs": [
    {
     "name": "stdout",
     "output_type": "stream",
     "text": [
      "initial: uxaasnvwegxlcdctssxxyelboyal\n",
      "100 th try: mexecyfu qjtiztecqyiunufpucx\n",
      "200 th try: methixfvzrpiseozytaiuwbmelrw\n",
      "300 th try: methinvrphxqwc fg sslkqsecpm\n",
      "400 th try: methinks it icemayxbcu nxeix\n",
      "500 th try: methinks it is qvqoerpxiz uv\n",
      "600 th try: methinks it is like a fvstkr\n",
      "700 th try: methinks it is like a wezcpz\n",
      "final: methinks it is like a weasel\n",
      "It took Python 730 tries.\n"
     ]
    }
   ],
   "source": [
    "# repeatedly call generate and compare\n",
    "# we are done only if 100% of the letters are correct \n",
    "\n",
    "same = False\n",
    "counter = 0\n",
    "\n",
    "text = gen_text(len(goal), fixed_list)\n",
    "print('initial:', text)\n",
    "\n",
    "same, score, keep = compare(text, goal)\n",
    "\n",
    "while not same:  \n",
    "    counter += 1\n",
    "    same, score, keep = compare(text, goal)\n",
    "\n",
    "    new_text = ''\n",
    "    for i in range(len(keep)):\n",
    "        if keep[i] == 1:\n",
    "            new_text += text[i]\n",
    "        else:\n",
    "            new_text += gen_text(1, fixed_list)\n",
    "\n",
    "    text = new_text\n",
    "    \n",
    "    # print progress every 100 tries\n",
    "    if counter%100 == 0:\n",
    "        print(counter, 'th try:', text)\n",
    "\n",
    "# test\n",
    "print('final:', text) \n",
    "print('It took Python', counter, 'tries.')"
   ]
  },
  {
   "cell_type": "code",
   "execution_count": null,
   "metadata": {},
   "outputs": [],
   "source": [
    "# Q4\n",
    "# implement *, /, -, >, and < for Fraction class\n",
    "# see my soln to Ex 3-4 of Ch 1"
   ]
  }
 ],
 "metadata": {
  "kernelspec": {
   "display_name": "Python 3",
   "language": "python",
   "name": "python3"
  },
  "language_info": {
   "codemirror_mode": {
    "name": "ipython",
    "version": 3
   },
   "file_extension": ".py",
   "mimetype": "text/x-python",
   "name": "python",
   "nbconvert_exporter": "python",
   "pygments_lexer": "ipython3",
   "version": "3.7.4"
  }
 },
 "nbformat": 4,
 "nbformat_minor": 2
}
